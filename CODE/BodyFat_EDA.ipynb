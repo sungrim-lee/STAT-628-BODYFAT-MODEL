{
 "cells": [
  {
   "cell_type": "code",
   "execution_count": 1,
   "id": "4f8be648",
   "metadata": {},
   "outputs": [],
   "source": [
    "# Import necessary libraries\n",
    "import numpy as np\n",
    "import pandas as pd\n",
    "\n",
    "from sklearn.linear_model import LinearRegression\n",
    "from sklearn.linear_model import Lasso\n",
    "from sklearn.ensemble import RandomForestRegressor\n",
    "from sklearn import metrics\n",
    "\n",
    "import matplotlib.pyplot as plt\n",
    "import seaborn as sns"
   ]
  },
  {
   "cell_type": "markdown",
   "id": "26d19904",
   "metadata": {},
   "source": [
    "### Summary of DataSet"
   ]
  },
  {
   "cell_type": "code",
   "execution_count": 2,
   "id": "4efc1c60",
   "metadata": {},
   "outputs": [
    {
     "data": {
      "text/html": [
       "<div>\n",
       "<style scoped>\n",
       "    .dataframe tbody tr th:only-of-type {\n",
       "        vertical-align: middle;\n",
       "    }\n",
       "\n",
       "    .dataframe tbody tr th {\n",
       "        vertical-align: top;\n",
       "    }\n",
       "\n",
       "    .dataframe thead th {\n",
       "        text-align: right;\n",
       "    }\n",
       "</style>\n",
       "<table border=\"1\" class=\"dataframe\">\n",
       "  <thead>\n",
       "    <tr style=\"text-align: right;\">\n",
       "      <th></th>\n",
       "      <th>BODYFAT</th>\n",
       "      <th>DENSITY</th>\n",
       "      <th>AGE</th>\n",
       "      <th>WEIGHT</th>\n",
       "      <th>HEIGHT</th>\n",
       "      <th>ADIPOSITY</th>\n",
       "      <th>NECK</th>\n",
       "      <th>CHEST</th>\n",
       "      <th>ABDOMEN</th>\n",
       "      <th>HIP</th>\n",
       "      <th>THIGH</th>\n",
       "      <th>KNEE</th>\n",
       "      <th>ANKLE</th>\n",
       "      <th>BICEPS</th>\n",
       "      <th>FOREARM</th>\n",
       "      <th>WRIST</th>\n",
       "    </tr>\n",
       "  </thead>\n",
       "  <tbody>\n",
       "    <tr>\n",
       "      <th>count</th>\n",
       "      <td>252.000000</td>\n",
       "      <td>252.000000</td>\n",
       "      <td>252.000000</td>\n",
       "      <td>252.000000</td>\n",
       "      <td>252.000000</td>\n",
       "      <td>252.000000</td>\n",
       "      <td>252.000000</td>\n",
       "      <td>252.000000</td>\n",
       "      <td>252.000000</td>\n",
       "      <td>252.000000</td>\n",
       "      <td>252.000000</td>\n",
       "      <td>252.000000</td>\n",
       "      <td>252.000000</td>\n",
       "      <td>252.000000</td>\n",
       "      <td>252.000000</td>\n",
       "      <td>252.000000</td>\n",
       "    </tr>\n",
       "    <tr>\n",
       "      <th>mean</th>\n",
       "      <td>18.938492</td>\n",
       "      <td>1.055574</td>\n",
       "      <td>44.884921</td>\n",
       "      <td>178.924405</td>\n",
       "      <td>70.148810</td>\n",
       "      <td>25.436905</td>\n",
       "      <td>37.992063</td>\n",
       "      <td>100.824206</td>\n",
       "      <td>92.555952</td>\n",
       "      <td>99.904762</td>\n",
       "      <td>59.405952</td>\n",
       "      <td>38.590476</td>\n",
       "      <td>23.102381</td>\n",
       "      <td>32.273413</td>\n",
       "      <td>28.663889</td>\n",
       "      <td>18.229762</td>\n",
       "    </tr>\n",
       "    <tr>\n",
       "      <th>std</th>\n",
       "      <td>7.750856</td>\n",
       "      <td>0.019031</td>\n",
       "      <td>12.602040</td>\n",
       "      <td>29.389160</td>\n",
       "      <td>3.662856</td>\n",
       "      <td>3.648111</td>\n",
       "      <td>2.430913</td>\n",
       "      <td>8.430476</td>\n",
       "      <td>10.783077</td>\n",
       "      <td>7.164058</td>\n",
       "      <td>5.249952</td>\n",
       "      <td>2.411805</td>\n",
       "      <td>1.694893</td>\n",
       "      <td>3.021274</td>\n",
       "      <td>2.020691</td>\n",
       "      <td>0.933585</td>\n",
       "    </tr>\n",
       "    <tr>\n",
       "      <th>min</th>\n",
       "      <td>0.000000</td>\n",
       "      <td>0.995000</td>\n",
       "      <td>22.000000</td>\n",
       "      <td>118.500000</td>\n",
       "      <td>29.500000</td>\n",
       "      <td>18.100000</td>\n",
       "      <td>31.100000</td>\n",
       "      <td>79.300000</td>\n",
       "      <td>69.400000</td>\n",
       "      <td>85.000000</td>\n",
       "      <td>47.200000</td>\n",
       "      <td>33.000000</td>\n",
       "      <td>19.100000</td>\n",
       "      <td>24.800000</td>\n",
       "      <td>21.000000</td>\n",
       "      <td>15.800000</td>\n",
       "    </tr>\n",
       "    <tr>\n",
       "      <th>25%</th>\n",
       "      <td>12.800000</td>\n",
       "      <td>1.041400</td>\n",
       "      <td>35.750000</td>\n",
       "      <td>159.000000</td>\n",
       "      <td>68.250000</td>\n",
       "      <td>23.100000</td>\n",
       "      <td>36.400000</td>\n",
       "      <td>94.350000</td>\n",
       "      <td>84.575000</td>\n",
       "      <td>95.500000</td>\n",
       "      <td>56.000000</td>\n",
       "      <td>36.975000</td>\n",
       "      <td>22.000000</td>\n",
       "      <td>30.200000</td>\n",
       "      <td>27.300000</td>\n",
       "      <td>17.600000</td>\n",
       "    </tr>\n",
       "    <tr>\n",
       "      <th>50%</th>\n",
       "      <td>19.000000</td>\n",
       "      <td>1.054900</td>\n",
       "      <td>43.000000</td>\n",
       "      <td>176.500000</td>\n",
       "      <td>70.000000</td>\n",
       "      <td>25.050000</td>\n",
       "      <td>38.000000</td>\n",
       "      <td>99.650000</td>\n",
       "      <td>90.950000</td>\n",
       "      <td>99.300000</td>\n",
       "      <td>59.000000</td>\n",
       "      <td>38.500000</td>\n",
       "      <td>22.800000</td>\n",
       "      <td>32.050000</td>\n",
       "      <td>28.700000</td>\n",
       "      <td>18.300000</td>\n",
       "    </tr>\n",
       "    <tr>\n",
       "      <th>75%</th>\n",
       "      <td>24.600000</td>\n",
       "      <td>1.070400</td>\n",
       "      <td>54.000000</td>\n",
       "      <td>197.000000</td>\n",
       "      <td>72.250000</td>\n",
       "      <td>27.325000</td>\n",
       "      <td>39.425000</td>\n",
       "      <td>105.375000</td>\n",
       "      <td>99.325000</td>\n",
       "      <td>103.525000</td>\n",
       "      <td>62.350000</td>\n",
       "      <td>39.925000</td>\n",
       "      <td>24.000000</td>\n",
       "      <td>34.325000</td>\n",
       "      <td>30.000000</td>\n",
       "      <td>18.800000</td>\n",
       "    </tr>\n",
       "    <tr>\n",
       "      <th>max</th>\n",
       "      <td>45.100000</td>\n",
       "      <td>1.108900</td>\n",
       "      <td>81.000000</td>\n",
       "      <td>363.150000</td>\n",
       "      <td>77.750000</td>\n",
       "      <td>48.900000</td>\n",
       "      <td>51.200000</td>\n",
       "      <td>136.200000</td>\n",
       "      <td>148.100000</td>\n",
       "      <td>147.700000</td>\n",
       "      <td>87.300000</td>\n",
       "      <td>49.100000</td>\n",
       "      <td>33.900000</td>\n",
       "      <td>45.000000</td>\n",
       "      <td>34.900000</td>\n",
       "      <td>21.400000</td>\n",
       "    </tr>\n",
       "  </tbody>\n",
       "</table>\n",
       "</div>"
      ],
      "text/plain": [
       "          BODYFAT     DENSITY         AGE      WEIGHT      HEIGHT   ADIPOSITY  \\\n",
       "count  252.000000  252.000000  252.000000  252.000000  252.000000  252.000000   \n",
       "mean    18.938492    1.055574   44.884921  178.924405   70.148810   25.436905   \n",
       "std      7.750856    0.019031   12.602040   29.389160    3.662856    3.648111   \n",
       "min      0.000000    0.995000   22.000000  118.500000   29.500000   18.100000   \n",
       "25%     12.800000    1.041400   35.750000  159.000000   68.250000   23.100000   \n",
       "50%     19.000000    1.054900   43.000000  176.500000   70.000000   25.050000   \n",
       "75%     24.600000    1.070400   54.000000  197.000000   72.250000   27.325000   \n",
       "max     45.100000    1.108900   81.000000  363.150000   77.750000   48.900000   \n",
       "\n",
       "             NECK       CHEST     ABDOMEN         HIP       THIGH        KNEE  \\\n",
       "count  252.000000  252.000000  252.000000  252.000000  252.000000  252.000000   \n",
       "mean    37.992063  100.824206   92.555952   99.904762   59.405952   38.590476   \n",
       "std      2.430913    8.430476   10.783077    7.164058    5.249952    2.411805   \n",
       "min     31.100000   79.300000   69.400000   85.000000   47.200000   33.000000   \n",
       "25%     36.400000   94.350000   84.575000   95.500000   56.000000   36.975000   \n",
       "50%     38.000000   99.650000   90.950000   99.300000   59.000000   38.500000   \n",
       "75%     39.425000  105.375000   99.325000  103.525000   62.350000   39.925000   \n",
       "max     51.200000  136.200000  148.100000  147.700000   87.300000   49.100000   \n",
       "\n",
       "            ANKLE      BICEPS     FOREARM       WRIST  \n",
       "count  252.000000  252.000000  252.000000  252.000000  \n",
       "mean    23.102381   32.273413   28.663889   18.229762  \n",
       "std      1.694893    3.021274    2.020691    0.933585  \n",
       "min     19.100000   24.800000   21.000000   15.800000  \n",
       "25%     22.000000   30.200000   27.300000   17.600000  \n",
       "50%     22.800000   32.050000   28.700000   18.300000  \n",
       "75%     24.000000   34.325000   30.000000   18.800000  \n",
       "max     33.900000   45.000000   34.900000   21.400000  "
      ]
     },
     "execution_count": 2,
     "metadata": {},
     "output_type": "execute_result"
    }
   ],
   "source": [
    "# Import Data excluding unecessary column INDO\n",
    "df = pd.read_csv('BodyFat.csv').drop(columns='IDNO')\n",
    "df.describe()"
   ]
  },
  {
   "cell_type": "markdown",
   "id": "ec6bf8fb",
   "metadata": {},
   "source": [
    "## Correlation between features and target variable"
   ]
  },
  {
   "cell_type": "code",
   "execution_count": 3,
   "id": "3bf1d370",
   "metadata": {},
   "outputs": [
    {
     "data": {
      "text/plain": [
       "BODYFAT      1.000000\n",
       "DENSITY     -0.988087\n",
       "AGE          0.289174\n",
       "WEIGHT       0.613156\n",
       "HEIGHT      -0.089106\n",
       "ADIPOSITY    0.727994\n",
       "NECK         0.491489\n",
       "CHEST        0.702885\n",
       "ABDOMEN      0.813706\n",
       "HIP          0.625700\n",
       "THIGH        0.561284\n",
       "KNEE         0.507786\n",
       "ANKLE        0.266783\n",
       "BICEPS       0.493031\n",
       "FOREARM      0.363277\n",
       "WRIST        0.347573\n",
       "Name: BODYFAT, dtype: float64"
      ]
     },
     "execution_count": 3,
     "metadata": {},
     "output_type": "execute_result"
    }
   ],
   "source": [
    "df.corr()['BODYFAT']"
   ]
  },
  {
   "cell_type": "markdown",
   "id": "257cab1d",
   "metadata": {},
   "source": [
    "## Relationship between BODYFAT and DENSITY is\n",
    "BODYFAT = 495 / DENSITY - 450 --> <b>Siri Equation, Siri, 1956<b/>"
   ]
  },
  {
   "cell_type": "code",
   "execution_count": 5,
   "id": "a616b9a5",
   "metadata": {},
   "outputs": [
    {
     "data": {
      "image/png": "[encoded data removed]",
      "text/plain": [
       "<Figure size 432x288 with 1 Axes>"
      ]
     },
     "metadata": {
      "needs_background": "light"
     },
     "output_type": "display_data"
    }
   ],
   "source": [
    "# Given Density as true\n",
    "expected_bodyfat = (495 / df['DENSITY']) - 450.\n",
    "errors = df['BODYFAT'] - expected_bodyfat\n",
    "plt.scatter(expected_bodyfat, df['BODYFAT'])\n",
    "plt.xlabel('Bodyfat from siri equation')\n",
    "plt.ylabel('Actual Bodyfat')\n",
    "plt.show()"
   ]
  },
  {
   "cell_type": "markdown",
   "id": "cfaf2176",
   "metadata": {},
   "source": [
    "## Given the equation, filter out 5-outliers outside of IQR-boxplot range\n",
    "## Select outliers based on boxplot and the threshold\n",
    "###### (These five datapoints could be used for final target-value modification and validation usecase)"
   ]
  },
  {
   "cell_type": "code",
   "execution_count": 6,
   "id": "bc7f40a9",
   "metadata": {},
   "outputs": [
    {
     "data": {
      "text/html": [
       "<div>\n",
       "<style scoped>\n",
       "    .dataframe tbody tr th:only-of-type {\n",
       "        vertical-align: middle;\n",
       "    }\n",
       "\n",
       "    .dataframe tbody tr th {\n",
       "        vertical-align: top;\n",
       "    }\n",
       "\n",
       "    .dataframe thead th {\n",
       "        text-align: right;\n",
       "    }\n",
       "</style>\n",
       "<table border=\"1\" class=\"dataframe\">\n",
       "  <thead>\n",
       "    <tr style=\"text-align: right;\">\n",
       "      <th></th>\n",
       "      <th>BODYFAT</th>\n",
       "      <th>DENSITY</th>\n",
       "    </tr>\n",
       "  </thead>\n",
       "  <tbody>\n",
       "    <tr>\n",
       "      <th>47</th>\n",
       "      <td>6.4</td>\n",
       "      <td>1.0665</td>\n",
       "    </tr>\n",
       "    <tr>\n",
       "      <th>75</th>\n",
       "      <td>18.3</td>\n",
       "      <td>1.0666</td>\n",
       "    </tr>\n",
       "    <tr>\n",
       "      <th>95</th>\n",
       "      <td>17.3</td>\n",
       "      <td>1.0991</td>\n",
       "    </tr>\n",
       "    <tr>\n",
       "      <th>181</th>\n",
       "      <td>0.0</td>\n",
       "      <td>1.1089</td>\n",
       "    </tr>\n",
       "    <tr>\n",
       "      <th>215</th>\n",
       "      <td>45.1</td>\n",
       "      <td>0.9950</td>\n",
       "    </tr>\n",
       "  </tbody>\n",
       "</table>\n",
       "</div>"
      ],
      "text/plain": [
       "     BODYFAT  DENSITY\n",
       "47       6.4   1.0665\n",
       "75      18.3   1.0666\n",
       "95      17.3   1.0991\n",
       "181      0.0   1.1089\n",
       "215     45.1   0.9950"
      ]
     },
     "execution_count": 6,
     "metadata": {},
     "output_type": "execute_result"
    }
   ],
   "source": [
    "# Extract outliers based on IQR\n",
    "IQR = errors.quantile(0.75) - errors.quantile(0.25)\n",
    "l_bound = errors.quantile(0.25) - (1.5 * IQR)\n",
    "u_bound = errors.quantile(0.75) + (1.5 * IQR)\n",
    "df.loc[errors[(errors < l_bound) | (errors > u_bound)].index, ['BODYFAT','DENSITY']]"
   ]
  },
  {
   "cell_type": "markdown",
   "id": "1e9b0470",
   "metadata": {},
   "source": [
    "## Bodyfat looks like following Normal Distribution"
   ]
  },
  {
   "cell_type": "code",
   "execution_count": 7,
   "id": "9614de92",
   "metadata": {},
   "outputs": [
    {
     "data": {
      "image/png": "[encoded data removed]",
      "text/plain": [
       "<Figure size 432x288 with 1 Axes>"
      ]
     },
     "metadata": {
      "needs_background": "light"
     },
     "output_type": "display_data"
    }
   ],
   "source": [
    "# Histogram for Bodyfat\n",
    "sns.histplot(df['BODYFAT'], kde=True, bins=20)\n",
    "plt.show()"
   ]
  },
  {
   "cell_type": "markdown",
   "id": "e301421e",
   "metadata": {},
   "source": [
    "## Feature Selection\n",
    "## Option 0. correlation between features given threshold"
   ]
  },
  {
   "cell_type": "code",
   "execution_count": 8,
   "id": "e89e2dc1",
   "metadata": {},
   "outputs": [
    {
     "data": {
      "text/plain": [
       "[(('BODYFAT', 'DENSITY'), -0.9880867267228647),\n",
       " (('ADIPOSITY', 'CHEST'), 0.9117986490778514),\n",
       " (('CHEST', 'ABDOMEN'), 0.9158276698546787),\n",
       " (('ADIPOSITY', 'ABDOMEN'), 0.9238800954811145),\n",
       " (('WEIGHT', 'HIP'), 0.9408841249190423)]"
      ]
     },
     "execution_count": 8,
     "metadata": {},
     "output_type": "execute_result"
    }
   ],
   "source": [
    "# Highly correlated features with respect to absolute value\n",
    "threshold = 0.9\n",
    "corr_vals = df.corr().stack()\n",
    "high_corr = corr_vals[(abs(corr_vals) > threshold) & (corr_vals != 1)]\n",
    "list_of_high_corr = sorted(high_corr.to_dict().items(), key=lambda x:x[1])[::2]\n",
    "list_of_high_corr"
   ]
  },
  {
   "cell_type": "markdown",
   "id": "c31c2f1f",
   "metadata": {},
   "source": [
    "## Option 1. Feature Selection using default lasso regression"
   ]
  },
  {
   "cell_type": "code",
   "execution_count": 9,
   "id": "6df54e59",
   "metadata": {},
   "outputs": [],
   "source": [
    "# Split features and target\n",
    "X = df[df.columns[~df.columns.isin(['BODYFAT', 'DENSITY'])]]\n",
    "y = df['BODYFAT']"
   ]
  },
  {
   "cell_type": "code",
   "execution_count": 10,
   "id": "df8ca6fc",
   "metadata": {},
   "outputs": [
    {
     "data": {
      "text/plain": [
       "[['ADIPOSITY', 0.0],\n",
       " ['NECK', -0.0],\n",
       " ['CHEST', 0.0],\n",
       " ['HIP', -0.0],\n",
       " ['KNEE', 0.0],\n",
       " ['ANKLE', -0.0],\n",
       " ['BICEPS', 0.0],\n",
       " ['FOREARM', 0.0],\n",
       " ['WRIST', -0.0]]"
      ]
     },
     "execution_count": 10,
     "metadata": {},
     "output_type": "execute_result"
    }
   ],
   "source": [
    "# Fit lasso and retrieve trained coefficients having zero values\n",
    "lasso = Lasso()\n",
    "lasso.fit(X, y)\n",
    "zero_coef_features = [[lasso.feature_names_in_[idx], val] for idx, val in enumerate(lasso.coef_) if val == 0]\n",
    "zero_coef_features"
   ]
  },
  {
   "cell_type": "markdown",
   "id": "45ef608d",
   "metadata": {},
   "source": [
    "## Option 2. Feature Selection using 'feature_importances_' attribute from default RF model"
   ]
  },
  {
   "cell_type": "code",
   "execution_count": 11,
   "id": "a8c680aa",
   "metadata": {},
   "outputs": [
    {
     "data": {
      "text/plain": [
       "[['FOREARM', 0.013617583584753063],\n",
       " ['BICEPS', 0.01588968048349569],\n",
       " ['ANKLE', 0.01801359059379894],\n",
       " ['KNEE', 0.019814037793929862],\n",
       " ['HIP', 0.02084797668573457],\n",
       " ['THIGH', 0.021749650337904356],\n",
       " ['NECK', 0.022451915837732223],\n",
       " ['CHEST', 0.023091791399959087],\n",
       " ['ADIPOSITY', 0.023488748879541003],\n",
       " ['WEIGHT', 0.024267950567363517],\n",
       " ['AGE', 0.024972746623200818],\n",
       " ['WRIST', 0.027481985927378418],\n",
       " ['HEIGHT', 0.03514384754603382],\n",
       " ['ABDOMEN', 0.7091684937391747]]"
      ]
     },
     "execution_count": 11,
     "metadata": {},
     "output_type": "execute_result"
    }
   ],
   "source": [
    "# Fit RF and retrieve feature importances from trained model ordered from the lowest importance\n",
    "rf_model = RandomForestRegressor(random_state=1)\n",
    "rf_model.fit(X, y)\n",
    "feature_importance = [[X.columns[idx], val] for idx, val in enumerate(rf_model.feature_importances_)]\n",
    "feature_importance.sort(key=lambda x:x[1])\n",
    "feature_importance"
   ]
  },
  {
   "cell_type": "markdown",
   "id": "e04914c9",
   "metadata": {},
   "source": [
    "## Given three options, WEIGHT, HIP can be survied from Option 0. In the meanwhile, duplicated columns from Option 1. with Option 2. would be deleted, which gives us 5-features left --  \n",
    "# AGE+WEIGHT+HEIGHT+ABDOMEN+WRIST !!!!"
   ]
  }
 ],
 "metadata": {
  "kernelspec": {
   "display_name": "Python 3 (ipykernel)",
   "language": "python",
   "name": "python3"
  },
  "language_info": {
   "codemirror_mode": {
    "name": "ipython",
    "version": 3
   },
   "file_extension": ".py",
   "mimetype": "text/x-python",
   "name": "python",
   "nbconvert_exporter": "python",
   "pygments_lexer": "ipython3",
   "version": "3.9.12"
  }
 },
 "nbformat": 4,
 "nbformat_minor": 5
}
